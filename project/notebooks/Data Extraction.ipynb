{
 "cells": [
  {
   "cell_type": "markdown",
   "metadata": {},
   "source": [
    "# Semantic Scholar Scraping for Summarisation Literature Review"
   ]
  },
  {
   "cell_type": "markdown",
   "metadata": {},
   "source": [
    "This has been integrated into a python script."
   ]
  },
  {
   "cell_type": "markdown",
   "metadata": {},
   "source": [
    "<b>url:</b> http://s2-public-api-prod.us-west-2.elasticbeanstalk.com/corpus/download/"
   ]
  },
  {
   "cell_type": "code",
   "execution_count": 21,
   "metadata": {},
   "outputs": [],
   "source": [
    "from tqdm import tqdm\n",
    "import gzip\n",
    "import json\n",
    "from langdetect import detect"
   ]
  },
  {
   "cell_type": "code",
   "execution_count": 2,
   "metadata": {},
   "outputs": [],
   "source": [
    "manifestFile = open(\"../data/sample/semantic scholar manifest 2020-03.txt\", \"r\")\n",
    "manifestFile = manifestFile.read()\n",
    "manifestFileList = manifestFile.split('\\n')\n",
    "manifestFileList = [file for file in manifestFileList if 's2' in file]"
   ]
  },
  {
   "cell_type": "markdown",
   "metadata": {},
   "source": [
    "## Extract Data"
   ]
  },
  {
   "cell_type": "code",
   "execution_count": 4,
   "metadata": {},
   "outputs": [],
   "source": [
    "s2CorpusUrl = '../data/s2-corpus-000.gz'    #'s2-corpus/sample-S2-records.gz'"
   ]
  },
  {
   "cell_type": "code",
   "execution_count": 5,
   "metadata": {},
   "outputs": [],
   "source": [
    "def unzipS2Contents(url):\n",
    "    f = gzip.open(url, 'rb')\n",
    "    file_content = f.read().decode('utf-8')\n",
    "    f.close()\n",
    "    fileContentsList = file_content.split('\\n')\n",
    "    return fileContentsList"
   ]
  },
  {
   "cell_type": "code",
   "execution_count": 6,
   "metadata": {},
   "outputs": [
    {
     "name": "stdout",
     "output_type": "stream",
     "text": [
      "Wall time: 56.3 s\n"
     ]
    }
   ],
   "source": [
    "%%time\n",
    "fileContentsList = unzipS2Contents(s2CorpusUrl)"
   ]
  },
  {
   "cell_type": "code",
   "execution_count": 7,
   "metadata": {},
   "outputs": [
    {
     "data": {
      "text/plain": [
       "999674"
      ]
     },
     "execution_count": 7,
     "metadata": {},
     "output_type": "execute_result"
    }
   ],
   "source": [
    "len(fileContentsList)"
   ]
  },
  {
   "cell_type": "code",
   "execution_count": 9,
   "metadata": {},
   "outputs": [
    {
     "data": {
      "text/plain": [
       "'{\"entities\":[],\"journalVolume\":\"\",\"journalPages\":\"\",\"pmid\":\"\",\"fieldsOfStudy\":[\"Physics\"],\"year\":2015,\"outCitations\":[\"2497ed63572e8d5e5fe7945f0b23e0d090acd51c\",\"03b317054274da28acfb2c8e082f38d7dcfdce04\",\"070c58ff3d4f5ca3383c20a23af3594ae6e564ab\",\"f9a1951720cafa3706b341c0d14ddd57d9c83043\",\"26052227014c270c3f6013d98fdb8db1b80f8607\",\"8de63b8021633e45585874468ff5fe4bfe3ee476\",\"91d9b8d56ce67a90abfe0c9fc7483b8220ad3c66\",\"5baead167bceac9bdcbd7ac808620bb8987da323\",\"778f2e33cb7b0dfc0d3925df852fa4e576e75890\",\"88a11402d59f026ae5cd93f044e0c038f4373d51\",\"c2038b5d11a4dd9017d7a410b93f088f4dc8d1e4\",\"fa1aff91383e227fc115fc0621fd7452ebca46ab\"],\"s2Url\":\"https://semanticscholar.org/paper/1b2f4e5be76a0a746b72110b447b42fffa046b5c\",\"s2PdfUrl\":\"\",\"id\":\"1b2f4e5be76a0a746b72110b447b42fffa046b5c\",\"authors\":[{\"name\":\"Xiang Fa Liu\",\"ids\":[\"153201706\"]},{\"name\":\"Guodong Xia\",\"ids\":[\"46932503\"]},{\"name\":\"Guo-zhen Yang\",\"ids\":[\"50147063\"]}],\"journalName\":\"\",\"paperAbstract\":\"Abstract Experimental investigations on the characteristics of air–water two-phase flow in the vertical helical rectangular channel are performed using the high speed flow visualization. The flow pattern map and the transition in the helical rectangular channel are presented. The flow pattern evolution in different positions of the helical rectangular channel is illustrated. The discussion on the coalescence of the bubble and slug is presented. The slug velocity, slug length distribution, liquid slug frequency, falling liquid film velocity and falling film thickness along the slug are investigated. The dimensionless liquid film thickness of the annular flow on the outer side of the channel is measured using the digital image processing algorithm.\",\"inCitations\":[],\"pdfUrls\":[\"http://www.mechwork.ir/uploads/papers/4-Experimental%20study%20on%20the%20characteristics%20of%20air-water%20two-phase%20flow%20in%20vertical.pdf\"],\"title\":\"Experimental study on the characteristics of air–water two-phase flow in vertical helical rectangular channel\",\"doi\":\"10.1016/j.ijmultiphaseflow.2015.03.012\",\"sources\":[],\"doiUrl\":\"https://doi.org/10.1016/j.ijmultiphaseflow.2015.03.012\",\"venue\":\"\"}'"
      ]
     },
     "execution_count": 9,
     "metadata": {},
     "output_type": "execute_result"
    }
   ],
   "source": [
    "fileContentsList[3]"
   ]
  },
  {
   "cell_type": "code",
   "execution_count": 80,
   "metadata": {},
   "outputs": [],
   "source": [
    "keyTermsList = ['summarisation', 'summarization', 'nlg', 'extractive', 'summeries']    # spelling problems...; removed automatic as it's too general when it matches by itself"
   ]
  },
  {
   "cell_type": "code",
   "execution_count": 66,
   "metadata": {
    "collapsed": true,
    "jupyter": {
     "outputs_hidden": true
    }
   },
   "outputs": [
    {
     "name": "stdout",
     "output_type": "stream",
     "text": [
      "File No.: 1962 - ERROR: No features in text.\n",
      "File No.: 3408 - ERROR: No features in text.\n",
      "File No.: 3591 - ERROR: No features in text.\n",
      "File No.: 7111 - ERROR: No features in text.\n",
      "File No.: 9483 - ERROR: No features in text.\n",
      "File No.: 10000 - Year: 1989 - Title: Epidemiological approaches for identifying risk factors in human congenital malformations : Abstracts of Papers Presented at the 29th Annual Meeting of the Japanese Teratology Society, Yamagata, Japan July 13 - 14\n",
      "File No.: 10129 - ERROR: No features in text.\n",
      "File No.: 13320 - ERROR: No features in text.\n",
      "File No.: 16084 - ERROR: No features in text.\n",
      "File No.: 17267 - ERROR: No features in text.\n",
      "File No.: 17351 - ERROR: No features in text.\n",
      "File No.: 19752 - ERROR: No features in text.\n",
      "File No.: 20000 - Year: 2009 - Title: Indian Adaptations in Flooded Regions of South America: Introduction\n",
      "File No.: 22540 - ERROR: No features in text.\n",
      "File No.: 24989 - ERROR: No features in text.\n",
      "File No.: 25199 - ERROR: No features in text.\n",
      "File No.: 25336 - ERROR: No features in text.\n",
      "File No.: 25600 - ERROR: No features in text.\n",
      "File No.: 25804 - ERROR: No features in text.\n",
      "File No.: 26630 - ERROR: No features in text.\n",
      "File No.: 27097 - ERROR: No features in text.\n",
      "File No.: 27751 - ERROR: No features in text.\n",
      "File No.: 29421 - ERROR: No features in text.\n",
      "File No.: 30000 - Year: 1956 - Title: Experimental Studies on the Habitat Preference and Evaluation of Environment by Flatfishes, Limanda yokohamae (GÜNTHER) and Kareius bicoloratus (BASILEWSKY)\n",
      "File No.: 31823 - ERROR: No features in text.\n",
      "File No.: 32502 - ERROR: No features in text.\n",
      "File No.: 32648 - ERROR: No features in text.\n",
      "File No.: 34138 - ERROR: No features in text.\n",
      "File No.: 35052 - ERROR: No features in text.\n",
      "File No.: 35206 - ERROR: No features in text.\n",
      "File No.: 36773 - ERROR: No features in text.\n",
      "File No.: 37797 - ERROR: No features in text.\n",
      "File No.: 37823 - ERROR: No features in text.\n",
      "File No.: 38049 - ERROR: No features in text.\n",
      "File No.: 38082 - ERROR: No features in text.\n",
      "File No.: 38637 - ERROR: No features in text.\n",
      "File No.: 38657 - ERROR: No features in text.\n",
      "File No.: 40000 - Year: 1993 - Title: Transient high-Rayleigh-number thermal convection with large viscosity variations\n",
      "File No.: 43693 - ERROR: No features in text.\n",
      "File No.: 47418 - ERROR: No features in text.\n",
      "File No.: 47428 - ERROR: No features in text.\n",
      "File No.: 47882 - ERROR: No features in text.\n",
      "File No.: 48200 - ERROR: No features in text.\n",
      "File No.: 48818 - ERROR: No features in text.\n",
      "File No.: 49111 - ERROR: No features in text.\n",
      "File No.: 49219 - ERROR: No features in text.\n",
      "File No.: 50000 - Year: 1951 - Title: Dust Control in the Asphalt Street Paving Industry.\n",
      "File No.: 50011 - ERROR: No features in text.\n",
      "File No.: 51006 - ERROR: No features in text.\n",
      "File No.: 51101 - ERROR: No features in text.\n",
      "File No.: 51380 - ERROR: No features in text.\n",
      "File No.: 51480 - ERROR: No features in text.\n",
      "File No.: 51605 - ERROR: No features in text.\n",
      "File No.: 53335 - ERROR: No features in text.\n",
      "File No.: 55112 - ERROR: No features in text.\n",
      "File No.: 55130 - ERROR: No features in text.\n",
      "File No.: 55279 - ERROR: No features in text.\n",
      "File No.: 59434 - ERROR: No features in text.\n",
      "File No.: 60000 - Year: 2012 - Title: The Impact of Health and Financial Literacy on Decision Making in Community-Based Older Adults\n",
      "File No.: 62284 - ERROR: No features in text.\n",
      "File No.: 65287 - ERROR: No features in text.\n",
      "File No.: 65900 - ERROR: No features in text.\n",
      "File No.: 70000 - Year: 2013 - Title: Full Factorial Design in Formulation of Lamotrigine Suspension using Locust Bean Gum\n",
      "File No.: 73401 - ERROR: No features in text.\n",
      "File No.: 73914 - ERROR: No features in text.\n",
      "File No.: 74813 - ERROR: No features in text.\n",
      "File No.: 75115 - ERROR: No features in text.\n",
      "File No.: 77535 - ERROR: No features in text.\n",
      "File No.: 77867 - ERROR: No features in text.\n",
      "File No.: 78212 - ERROR: No features in text.\n",
      "File No.: 78299 - ERROR: No features in text.\n",
      "File No.: 79934 - ERROR: No features in text.\n",
      "File No.: 80000 - Year: 2013 - Title: A New Maximum Likelihood Approach for Free Energy Profile Construction from Molecular Simulations.\n",
      "File No.: 83128 - ERROR: No features in text.\n",
      "File No.: 85876 - ERROR: No features in text.\n",
      "File No.: 86796 - ERROR: No features in text.\n",
      "File No.: 87451 - ERROR: No features in text.\n",
      "File No.: 88710 - ERROR: No features in text.\n",
      "File No.: 90000 - Year: 2018 - Title: Assessment of Influence of Miniature Sample Scoop on Creep Life of Piping\n",
      "File No.: 95286 - ERROR: No features in text.\n",
      "File No.: 96393 - ERROR: No features in text.\n",
      "File No.: 96450 - ERROR: No features in text.\n",
      "File No.: 99440 - ERROR: No features in text.\n",
      "File No.: 100000 - Year: 1998 - Title: The evolution of decision trees\n",
      "Wall time: 23min 36s\n"
     ]
    }
   ],
   "source": [
    "%%time\n",
    "# Process documents and keep only the english ones.\n",
    "fileContentsListEnglish = []\n",
    "fileCount = 1\n",
    "noFilesToProcess = 100000\n",
    "\n",
    "for file in fileContentsList:\n",
    "    try:\n",
    "        fileJSON = json.loads(file)\n",
    "\n",
    "        if detect(fileJSON[\"title\"]) == 'en':\n",
    "            fileContentsListEnglish.append(file)\n",
    "            \n",
    "            if fileCount % (noFilesToProcess/10) == 0:\n",
    "                print(f'File No.: {fileCount} - Year: {fileJSON[\"year\"]} - Title: {fileJSON[\"title\"]}')\n",
    "\n",
    "            fileCount += 1   # only counting for english documents.\n",
    "            \n",
    "    except Exception as e:\n",
    "        print(f'File No.: {fileCount} - ERROR: {e}')\n",
    "        \n",
    "    if fileCount == noFilesToProcess+1:\n",
    "        break"
   ]
  },
  {
   "cell_type": "raw",
   "metadata": {},
   "source": [
    "# Keep documents that contain key terms\n",
    "print(f'Number of english documents: {len(fileContentsListEnglish)}')"
   ]
  },
  {
   "cell_type": "code",
   "execution_count": 81,
   "metadata": {},
   "outputs": [
    {
     "name": "stdout",
     "output_type": "stream",
     "text": [
      "\n",
      "DOC MATCHED: An Effective Joint Framework for Document Summarization\n",
      "\n",
      "\n",
      "DOC MATCHED: Developments in Physical Chemistry and Basic Principles of Extractive Metallurgy in 1980\n",
      "\n",
      "\n",
      "DOC MATCHED: Political and economic implications of extractive industries\n",
      "\n",
      "\n",
      "DOC MATCHED: Belief as summarization and meta-support\n",
      "\n",
      "\n",
      "DOC MATCHED: Effect of Sea Cucumber Extractive on Erythrocyte Membrane Fluidity in Rats with Overtraining Syndrome\n",
      "\n",
      "\n",
      "DOC MATCHED: Automatic Generation of Summeries for the Web\n",
      "\n",
      "\n",
      "DOC MATCHED: A video summarization approach based on the emulation of bottom-up mechanisms of visual attention\n",
      "\n",
      "\n",
      "DOC MATCHED: Summarization Experiments in DUC 2004\n",
      "\n",
      "\n",
      "DOC MATCHED: QA@INEX Track 2011: Question Expansion and Reformulation Using the REG Summarization System\n",
      "\n",
      "\n",
      "DOC MATCHED: Summarization of news speech with unknown topic boundary\n",
      "\n",
      "\n",
      "DOC MATCHED: Attend to the beginning: A study on using bidirectional attention for extractive summarization\n",
      "\n",
      "\n",
      "DOC MATCHED: Topical Summarization on the Mayor and Schoolmaster Forum at 2009 Winter Universiade Sports Science Conference\n",
      "\n",
      "\n",
      "DOC MATCHED: Multicamera Summarization of Rehabilitation Sessions in Home Environment\n",
      "\n",
      "\n",
      "DOC MATCHED: A New Extractive Technology of the Silkworm Chrysalis Protein\n",
      "\n",
      "\n",
      "DOC MATCHED: Query-Focused Multi-Document Summarization Using Co-Training Based Semi-Supervised Learning\n",
      "\n",
      "\n",
      "DOC MATCHED: A simple synthesis of cyclotribromoveratrylene (CTBV) : an extractive of the red alga Halopytis pinastroides\n",
      "\n",
      "\n",
      "DOC MATCHED: Summarization of the Literatures on Human Resource Management of Chinese Library in the Last Few Years\n",
      "\n",
      "\n",
      "DOC MATCHED: GC analysis of extractive compounds in beech wood\n",
      "\n",
      "\n",
      "DOC MATCHED: Extractive Separation of Aluminum(III), Gallium(III)and Indium(III)Using Bis(1, 1, 3, 3, tetramethylbutyl)phosphinic Acid and Its Sulfur Analogues\n",
      "\n",
      "Wall time: 2.49 s\n"
     ]
    }
   ],
   "source": [
    "%%time\n",
    "for file in fileContentsListEnglish:\n",
    "    \n",
    "    fileJSON = json.loads(file)\n",
    "    \n",
    "    keyTermsMatched = set(fileJSON[\"title\"].lower().split(' ')).intersection(set(keyTermsList))\n",
    "    \n",
    "    if (0 < len(keyTermsMatched)) :\n",
    "        print(f'\\nDOC MATCHED: {fileJSON[\"title\"]}\\n')\n",
    "    else:\n",
    "#         print(fileJSON[\"title\"])\n",
    "        pass"
   ]
  },
  {
   "cell_type": "code",
   "execution_count": null,
   "metadata": {},
   "outputs": [],
   "source": []
  }
 ],
 "metadata": {
  "kernelspec": {
   "display_name": "Python 3",
   "language": "python",
   "name": "python3"
  },
  "language_info": {
   "codemirror_mode": {
    "name": "ipython",
    "version": 3
   },
   "file_extension": ".py",
   "mimetype": "text/x-python",
   "name": "python",
   "nbconvert_exporter": "python",
   "pygments_lexer": "ipython3",
   "version": "3.6.5"
  }
 },
 "nbformat": 4,
 "nbformat_minor": 4
}
